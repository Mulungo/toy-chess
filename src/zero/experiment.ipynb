{
 "cells": [
  {
   "cell_type": "code",
   "execution_count": 12,
   "metadata": {},
   "outputs": [],
   "source": [
    "%run -n model.py"
   ]
  },
  {
   "cell_type": "code",
   "execution_count": 13,
   "metadata": {},
   "outputs": [],
   "source": [
    "model = Model()"
   ]
  },
  {
   "cell_type": "code",
   "execution_count": 16,
   "metadata": {},
   "outputs": [],
   "source": [
    "Model.get_loss?"
   ]
  },
  {
   "cell_type": "code",
   "execution_count": 17,
   "metadata": {},
   "outputs": [
    {
     "data": {
      "text/plain": [
       "<function torch.nn.functional.kl_div(input, target, size_average=None, reduce=None, reduction='mean', log_target=False)>"
      ]
     },
     "execution_count": 17,
     "metadata": {},
     "output_type": "execute_result"
    }
   ],
   "source": [
    "F.kl_div"
   ]
  },
  {
   "cell_type": "code",
   "execution_count": 22,
   "metadata": {},
   "outputs": [
    {
     "data": {
      "text/plain": [
       "tensor([-3.9468, -3.1385, -3.9942, -3.5522, -3.5445, -3.1274, -3.3095, -3.8421,\n",
       "        -3.9252, -3.3112, -3.3745, -3.3628, -3.6532, -3.8811, -3.5471, -3.6203,\n",
       "        -3.1487, -3.2527, -3.5714, -3.5169, -3.2687, -3.4141, -3.1632, -3.1397,\n",
       "        -3.3500, -3.9717, -4.0314, -3.5362, -3.0393, -3.3168, -3.3985, -4.0141])"
      ]
     },
     "execution_count": 22,
     "metadata": {},
     "output_type": "execute_result"
    }
   ],
   "source": [
    "y = F.log_softmax(torch.rand(32), dim=0)\n",
    "y"
   ]
  },
  {
   "cell_type": "code",
   "execution_count": 32,
   "metadata": {},
   "outputs": [
    {
     "data": {
      "text/plain": [
       "tensor(indices=tensor([[0, 4, 8]]),\n",
       "       values=tensor([0.1667, 0.3333, 0.5000]),\n",
       "       size=(32,), nnz=3, layout=torch.sparse_coo)"
      ]
     },
     "execution_count": 32,
     "metadata": {},
     "output_type": "execute_result"
    }
   ],
   "source": [
    "indices = [[0, 4, 8]]\n",
    "values = [1/6, 2/6, 3/6]\n",
    "y_tgt = torch.sparse_coo_tensor(indices, values, size=[32]).coalesce()\n",
    "y_tgt"
   ]
  },
  {
   "cell_type": "code",
   "execution_count": 33,
   "metadata": {},
   "outputs": [
    {
     "data": {
      "text/plain": [
       "(tensor([[0, 4, 8]]), tensor([0.1667, 0.3333, 0.5000]))"
      ]
     },
     "execution_count": 33,
     "metadata": {},
     "output_type": "execute_result"
    }
   ],
   "source": [
    "y_tgt.indices(), y_tgt.values()"
   ]
  },
  {
   "cell_type": "code",
   "execution_count": 35,
   "metadata": {},
   "outputs": [
    {
     "data": {
      "text/plain": [
       "tensor(3.8019)"
      ]
     },
     "execution_count": 35,
     "metadata": {},
     "output_type": "execute_result"
    }
   ],
   "source": [
    "torch.sum(- y_tgt.values() * y.index_select(0, y_tgt.indices()[0]))\n",
    "# TODO: Can I do this for batched prediction/target ??"
   ]
  },
  {
   "cell_type": "code",
   "execution_count": 45,
   "metadata": {},
   "outputs": [
    {
     "data": {
      "text/plain": [
       "tensor([[-2.5538, -1.9824, -2.7124, -2.3947, -2.2820, -2.5950, -2.1023, -2.3191,\n",
       "         -2.5076, -1.9093],\n",
       "        [-2.7076, -2.0259, -2.5905, -1.9342, -2.4191, -2.5293, -2.4406, -2.3025,\n",
       "         -2.1413, -2.2204],\n",
       "        [-2.4635, -2.3734, -2.8234, -1.9924, -2.1850, -2.8808, -2.5834, -2.2532,\n",
       "         -1.9960, -1.9596]])"
      ]
     },
     "execution_count": 45,
     "metadata": {},
     "output_type": "execute_result"
    }
   ],
   "source": [
    "y = F.log_softmax(torch.rand(3, 10), dim=-1)\n",
    "y"
   ]
  },
  {
   "cell_type": "code",
   "execution_count": 46,
   "metadata": {},
   "outputs": [
    {
     "data": {
      "text/plain": [
       "tensor([[-2.5538, -1.9824, -2.7124],\n",
       "        [-1.9342, -2.4191, -2.5293],\n",
       "        [-2.5834, -2.2532, -1.9960]])"
      ]
     },
     "execution_count": 46,
     "metadata": {},
     "output_type": "execute_result"
    }
   ],
   "source": [
    "y.gather(1, torch.LongTensor([[0, 1, 2], [3, 4, 5], [6, 7, 8]]))"
   ]
  }
 ],
 "metadata": {
  "kernelspec": {
   "display_name": "Python 3",
   "language": "python",
   "name": "python3"
  },
  "language_info": {
   "codemirror_mode": {
    "name": "ipython",
    "version": 3
   },
   "file_extension": ".py",
   "mimetype": "text/x-python",
   "name": "python",
   "nbconvert_exporter": "python",
   "pygments_lexer": "ipython3",
   "version": "3.9.1"
  }
 },
 "nbformat": 4,
 "nbformat_minor": 4
}
